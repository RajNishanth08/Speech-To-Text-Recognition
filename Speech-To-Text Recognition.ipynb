{
 "cells": [
  {
   "cell_type": "code",
   "execution_count": 1,
   "metadata": {},
   "outputs": [],
   "source": [
    "#!pip install speechRecognition"
   ]
  },
  {
   "cell_type": "code",
   "execution_count": 2,
   "metadata": {},
   "outputs": [],
   "source": [
    "import speech_recognition as spr"
   ]
  },
  {
   "cell_type": "markdown",
   "metadata": {},
   "source": [
    "### Speech Recognition :\n",
    "``Library`` for performing speech recognition, with support for several engines and APIs, online and offline."
   ]
  },
  {
   "cell_type": "markdown",
   "metadata": {},
   "source": [
    "### Recognizer :\n",
    "Creates a new ``Recognizer`` instance, which represents a collection of speech recognition functionality."
   ]
  },
  {
   "cell_type": "code",
   "execution_count": 5,
   "metadata": {},
   "outputs": [],
   "source": [
    "recognizer=spr.Recognizer()"
   ]
  },
  {
   "cell_type": "markdown",
   "metadata": {},
   "source": [
    "<font size=\"5\"><font color='red'>**Converting Audio to AudioFile**</font></font>"
   ]
  },
  {
   "cell_type": "markdown",
   "metadata": {},
   "source": [
    "### AudioFile :\n",
    "Creates a new ``AudioFile`` instance given a WAV/AIFF/FLAC audio file ``filename_or_fileobject``. Subclass of ``AudioSource``."
   ]
  },
  {
   "cell_type": "code",
   "execution_count": 12,
   "metadata": {},
   "outputs": [],
   "source": [
    "proverb=spr.AudioFile('Proverb.flac')"
   ]
  },
  {
   "cell_type": "code",
   "execution_count": 13,
   "metadata": {},
   "outputs": [
    {
     "name": "stdout",
     "output_type": "stream",
     "text": [
      "<class 'speech_recognition.AudioFile'>\n"
     ]
    }
   ],
   "source": [
    "print(type(proverb))"
   ]
  },
  {
   "cell_type": "markdown",
   "metadata": {},
   "source": [
    "### Recognizer.instance.record :\n",
    "Records up to ``duration`` seconds of audio from ``source`` (an ``AudioSource`` instance) starting at ``offset`` (or at the beginning if not specified) into an ``AudioData`` instance, which it returns.\n",
    "\n",
    "If ``duration`` is not specified, then it will record until there is no more audio input."
   ]
  },
  {
   "cell_type": "markdown",
   "metadata": {},
   "source": [
    "<font size=\"5\"><font color='red'>**Converting AudioFile to AudioData**</font></font>"
   ]
  },
  {
   "cell_type": "code",
   "execution_count": 15,
   "metadata": {},
   "outputs": [],
   "source": [
    "with proverb as source:\n",
    "    proverb = recognizer.record(source)"
   ]
  },
  {
   "cell_type": "code",
   "execution_count": 16,
   "metadata": {},
   "outputs": [
    {
     "name": "stdout",
     "output_type": "stream",
     "text": [
      "<class 'speech_recognition.AudioData'>\n"
     ]
    }
   ],
   "source": [
    "print(type(proverb))"
   ]
  },
  {
   "cell_type": "markdown",
   "metadata": {},
   "source": [
    "<font size=\"5\"><font color='red'>**Converting AudioData to Text**</font></font>"
   ]
  },
  {
   "cell_type": "markdown",
   "metadata": {},
   "source": [
    "### Recognizer.instance.recognize_google :\n",
    "Performs speech recognition on ``audio_data`` (an ``AudioData`` instance), using the Google Speech Recognition API."
   ]
  },
  {
   "cell_type": "code",
   "execution_count": 20,
   "metadata": {},
   "outputs": [
    {
     "name": "stdout",
     "output_type": "stream",
     "text": [
      "actions speak louder than words\n"
     ]
    }
   ],
   "source": [
    "text = recognizer.recognize_google(proverb,\n",
    "                                   language=\"en-US\")\n",
    "print(text)"
   ]
  },
  {
   "cell_type": "markdown",
   "metadata": {},
   "source": [
    "<font size=\"5\"><font color='red'>**Speech to Text with a song**</font></font>"
   ]
  },
  {
   "cell_type": "markdown",
   "metadata": {},
   "source": [
    "<font size=\"5\"><font color='red'>**TAMIL**</font></font>"
   ]
  },
  {
   "cell_type": "code",
   "execution_count": 29,
   "metadata": {},
   "outputs": [],
   "source": [
    "song=spr.AudioFile('Yaen Ennai Pirindhaai.wav')"
   ]
  },
  {
   "cell_type": "code",
   "execution_count": 30,
   "metadata": {},
   "outputs": [
    {
     "name": "stdout",
     "output_type": "stream",
     "text": [
      "<class 'speech_recognition.AudioFile'>\n"
     ]
    }
   ],
   "source": [
    "print(type(song))"
   ]
  },
  {
   "cell_type": "code",
   "execution_count": 31,
   "metadata": {},
   "outputs": [],
   "source": [
    "with song as source:\n",
    "    song = recognizer.record(source,duration=60,offset=22)"
   ]
  },
  {
   "cell_type": "code",
   "execution_count": 32,
   "metadata": {},
   "outputs": [
    {
     "name": "stdout",
     "output_type": "stream",
     "text": [
      "<class 'speech_recognition.AudioData'>\n"
     ]
    }
   ],
   "source": [
    "print(type(song))"
   ]
  },
  {
   "cell_type": "code",
   "execution_count": 33,
   "metadata": {},
   "outputs": [
    {
     "name": "stdout",
     "output_type": "stream",
     "text": [
      "கண்ணிலே கண்ணீரிலே பிரிந்த நான் போகின்றேன் விண்ணிலே மேகமாய் கலைந்து நான் மெல்ல மெல்ல கரைந்தேன் அழுகை என்னும் அருவியில் தினம் தினம் நான் விழுந்தேனே நிலவே உன் நிழலில் தொடர்ந்து நானும் விரைந்தே\n"
     ]
    }
   ],
   "source": [
    "song_text=recognizer.recognize_google(song,language=\"ta-IN\")\n",
    "\n",
    "print(song_text)"
   ]
  },
  {
   "cell_type": "markdown",
   "metadata": {},
   "source": [
    "<font size=\"5\"><font color='red'>**HINDI**</font></font>"
   ]
  },
  {
   "cell_type": "code",
   "execution_count": 38,
   "metadata": {},
   "outputs": [],
   "source": [
    "song2=spr.AudioFile('Duniyaa.wav')\n",
    "with song2 as source2:\n",
    "    song2=recognizer.record(source2,duration=60,offset=11)"
   ]
  },
  {
   "cell_type": "code",
   "execution_count": 39,
   "metadata": {},
   "outputs": [
    {
     "name": "stdout",
     "output_type": "stream",
     "text": [
      "बुलावे तुझे यारी आज मेरी गलियां बसाऊं तेरे संग में अलग दुनिया बुलावे तुझे यारी आज मेरी गलियां बसाऊं तेरे संग में अलग दुनिया ना आए कभी दोनों में जरा भी फासले बस एक तू एक मैं हूं और कोई ना मेरा सब कुछ तेरा तू समझ ले तू चाहे मेरे हक की जमीन रख ले उसे भी नाम तेरा लिख दे मैं जी हूं जब जब तेरा दिल धड़के\n"
     ]
    }
   ],
   "source": [
    "text2=recognizer.recognize_google(song2,language='hi-IN')\n",
    "print(text2)"
   ]
  },
  {
   "cell_type": "code",
   "execution_count": null,
   "metadata": {},
   "outputs": [],
   "source": []
  }
 ],
 "metadata": {
  "kernelspec": {
   "display_name": "Python 3",
   "language": "python",
   "name": "python3"
  },
  "language_info": {
   "codemirror_mode": {
    "name": "ipython",
    "version": 3
   },
   "file_extension": ".py",
   "mimetype": "text/x-python",
   "name": "python",
   "nbconvert_exporter": "python",
   "pygments_lexer": "ipython3",
   "version": "3.7.4"
  }
 },
 "nbformat": 4,
 "nbformat_minor": 2
}
